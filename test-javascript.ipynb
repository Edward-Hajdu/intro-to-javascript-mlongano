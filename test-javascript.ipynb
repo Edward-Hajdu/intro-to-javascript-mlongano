{
 "cells": [
  {
   "cell_type": "markdown",
   "metadata": {},
   "source": []
  },
  {
   "cell_type": "code",
   "execution_count": 1,
   "metadata": {},
   "outputs": [
    {
     "name": "stdout",
     "output_type": "stream",
     "text": [
      "Hello, World!\n"
     ]
    }
   ],
   "source": [
    "console.log('Hello, World!');"
   ]
  },
  {
   "attachments": {},
   "cell_type": "markdown",
   "metadata": {},
   "source": [
    "# Esempi di come si comportano i dati di tipo primitivo"
   ]
  },
  {
   "cell_type": "code",
   "execution_count": null,
   "metadata": {},
   "outputs": [],
   "source": [
    "{\n",
    "    let age = 30;\n",
    "    let age1 = age;\n",
    "    age = 31;\n",
    "    console.log(age1);\n",
    "    console.log(age);\n",
    "\n",
    "    let immutable = \"hello\";\n",
    "    let copy = immutable.slice(0, 4);\n",
    "    console.log(immutable);\n",
    "    console.log(copy);\n",
    "}\n"
   ]
  },
  {
   "cell_type": "code",
   "execution_count": null,
   "metadata": {},
   "outputs": [],
   "source": [
    "typeof 1.23;\n",
    "typeof \"hello\";\n",
    "typeof true;\n",
    "typeof [];\n",
    "typeof {};"
   ]
  },
  {
   "cell_type": "code",
   "execution_count": null,
   "metadata": {},
   "outputs": [],
   "source": [
    "let mutable = [1, 2, 3]; // Memorizzato sullo heap\n",
    "let mutableCopy = mutable; // mutableCopy punta allo stesso oggetto\n",
    "mutableCopy.push(4); // Modificare mutableCopy modifica mutable\n",
    "console.log(mutable); // [1, 2, 3, 4]\n",
    "console.log(mutableCopy); // [1, 2, 3, 4]\n",
    "mutable.sort((a, b) => b - a); // Modificare mutable modifica mutableCopy\n",
    "console.log(mutable); // [4, 3, 2, 1]\n",
    "console.log(mutableCopy); // [4, 3, 2, 1]\n"
   ]
  },
  {
   "cell_type": "code",
   "execution_count": null,
   "metadata": {},
   "outputs": [],
   "source": [
    "{\n",
    "    console.log(0.1 + 0.2);\n",
    "    console.log(0.1 + 0.2 == 0.3);\n",
    "}"
   ]
  },
  {
   "attachments": {},
   "cell_type": "markdown",
   "metadata": {},
   "source": [
    "# Boxing e Unboxing \n"
   ]
  },
  {
   "cell_type": "code",
   "execution_count": null,
   "metadata": {},
   "outputs": [],
   "source": [
    "let myString = \"Hello, world!\";\n",
    "console.log(myString.toUpperCase()); // \"HELLO, WORLD!\"\n",
    "\n",
    "// Dietro le quinte, JavaScript fa qualcosa di simile a:\n",
    "console.log(new String(myString).toUpperCase());\n",
    "\n",
    "let myNumber = 123.456;\n",
    "console.log(myNumber.toFixed(2)); // \"123.46\"\n",
    "\n",
    "// Dietro le quinte, JavaScript fa qualcosa di simile a:\n",
    "console.log(new Number(myNumber).toFixed(2));\n",
    "\n",
    "let myBool = true;\n",
    "console.log(myBool.toString()); // \"true\"\n",
    "// Dietro le quinte, JavaScript fa qualcosa di simile"
   ]
  },
  {
   "attachments": {},
   "cell_type": "markdown",
   "metadata": {},
   "source": [
    "# Array\n"
   ]
  },
  {
   "cell_type": "code",
   "execution_count": null,
   "metadata": {},
   "outputs": [],
   "source": [
    "console.log(typeof [1, 2, 3]); // \"object\"\n",
    "console.log(Array.isArray([1, 2, 3])); // true\n",
    "\n",
    "//Lunghezza array (length)\n",
    "let arr = [1, 2, 3, 4, 5];\n",
    "console.log(arr.length); // Output: 5\n",
    "\n",
    "//Aggiungere elementi (push)\n",
    "let arrLength = arr.push(6);\n",
    "console.log(arrLength); // Output: 6\n",
    "console.log(arr); // Output: [1, 2, 3, 4, 5, 6]\n",
    "\n",
    "//Rimuovere l’ltimo elemento (pop)\n",
    "let lastElement = arr.pop();\n",
    "console.log(lastElement); // Output: 6\n",
    "console.log(arr); // Output: [1, 2, 3, 4, 5]\n",
    "\n",
    "//Creare un nuovo array partendo da uno esistente (map)\n",
    "let squares = arr.map(x => x * x);\n",
    "console.log(squares); // Output: [1, 4, 9, 16, 25]\n",
    "\n",
    "//Filtrare Elementi (filter)\n",
    "let evenNumbers = arr.filter(x => x % 2 === 0);\n",
    "console.log(evenNumbers); // Output: [2, 4]\n"
   ]
  },
  {
   "attachments": {},
   "cell_type": "markdown",
   "metadata": {},
   "source": [
    "# Funzioni in JavaScript\n",
    "\n",
    "le funzioni in JS sono oggetti di prima classe, cioè possono essere passate come argomenti, assegnate a variabili e restituite da altre funzioni.\n",
    "\n",
    "Esistono due modi per definire una funzione in JS:\n",
    "\n",
    "- Dichiarazione/istruzione di funzione\n",
    "- Espressione di funzione \n",
    "\n",
    "## Dichiarazione di funzione\n",
    "\n",
    "```javascript\n",
    "function nomeFunzione(parametro1, parametro2){\n",
    "    //corpo della funzione\n",
    "    return valoreDiRitorno;\n",
    "}\n",
    "```\n",
    "\n",
    "## Espressione di funzione\n",
    "\n",
    "```javascript\n",
    "function nomeFunzione(parametro1, parametro2){\n",
    "    //corpo della funzione\n",
    "    return valoreDiRitorno;\n",
    "}\n",
    "```\n",
    "\n",
    "## arrow function\n",
    "\n",
    "```javascript\n",
    "function nomeFunzione(parametro1, parametro2){\n",
    "    //corpo della funzione\n",
    "    return espressioneDiRitorno;\n",
    "}\n",
    "\n",
    "//oppure\n",
    "const nomeFunzione = parametro => espressioneDiRitorno;\n",
    "```"
   ]
  },
  {
   "cell_type": "code",
   "execution_count": null,
   "metadata": {},
   "outputs": [],
   "source": [
    "//dichiarazione di funzione\n",
    "function add(a: number, b: number): number{\n",
    "    return a + b;\n",
    "\n",
    "    add(1, 2);\n",
    "\n",
    "    add\n",
    "\n",
    "//espressione di funzione        \n",
    "\n",
    "   \n",
    "}"
   ]
  },
  {
   "attachments": {},
   "cell_type": "markdown",
   "metadata": {},
   "source": [
    "### Closure\n",
    "\n",
    "Funzione che cattura le variabili dall'ambiente circostante in cui è stata creata.\n",
    "\n",
    "```javascript\n",
    "function creaContatore() {\n",
    "    let contatore = 0;\n",
    "    return function() {\n",
    "        return contatore++;\n",
    "    };\n",
    "}\n",
    "\n",
    "//si usa const per puntare ad un oggetto\n",
    "const contatore = creaContatore();\n",
    "\n",
    "```"
   ]
  },
  {
   "cell_type": "code",
   "execution_count": 16,
   "metadata": {},
   "outputs": [
    {
     "name": "stdout",
     "output_type": "stream",
     "text": [
      "0\n",
      "1\n",
      "0\n",
      "1\n",
      "2\n",
      "0\n",
      "0\n"
     ]
    }
   ],
   "source": [
    "{\n",
    "    function creaContatore() {\n",
    "        let contatore = 0;\n",
    "        return function () {\n",
    "            return contatore++;\n",
    "        };\n",
    "    }\n",
    "\n",
    "    const contatore = creaContatore();\n",
    "    const contatore1 = creaContatore();\n",
    "\n",
    "    //si possono usare più contatori\n",
    "    console.log(contatore());\n",
    "    console.log(contatore());\n",
    "    console.log(contatore1());\n",
    "    console.log(contatore1());\n",
    "    console.log(contatore());\n",
    "\n",
    "}\n",
    "\n",
    "{\n",
    "    function creaContatore1() {\n",
    "        return function () {\n",
    "            let contatore = 0;\n",
    "            return contatore++;\n",
    "        };\n",
    "    }\n",
    "\n",
    "    const contatore1 = creaContatore1();\n",
    "\n",
    "    console.log(contatore1());\n",
    "    console.log(contatore1());\n",
    "}"
   ]
  },
  {
   "attachments": {},
   "cell_type": "markdown",
   "metadata": {},
   "source": [
    "## Oggetti in JavaScript\n",
    "\n",
    "Gli oggetti in JS sono collezioni di coppie chiave-valore.\n",
    "\n",
    "```javascript\n",
    "const oggetto = {\n",
    "    <chiave> : <valore1>,\n",
    "........\n",
    "    <chiaveN> : <valoreN>\n",
    "};\n",
    "```\n",
    "\n",
    "### Accesso ai valori\n",
    "\n",
    "```javascript\n",
    "\n",
    "console.log(oggetto.chiave1);\n",
    "console.log(oggetto['chiave1']);"
   ]
  }
 ],
 "metadata": {
  "kernelspec": {
   "display_name": "Deno",
   "language": "typescript",
   "name": "deno"
  },
  "language_info": {
   "file_extension": ".ts",
   "mimetype": "text/x.typescript",
   "name": "typescript",
   "nb_converter": "script",
   "pygments_lexer": "typescript",
   "version": "5.3.3"
  }
 },
 "nbformat": 4,
 "nbformat_minor": 4
}
